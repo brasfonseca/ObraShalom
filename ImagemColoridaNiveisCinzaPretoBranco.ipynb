{
  "nbformat": 4,
  "nbformat_minor": 0,
  "metadata": {
    "colab": {
      "provenance": [],
      "mount_file_id": "1B9kJPPG_8t1DNxaI5UOa3TCCqpxWrBGh",
      "authorship_tag": "ABX9TyM2gva8o7WaQOSlEUCIL414",
      "include_colab_link": true
    },
    "kernelspec": {
      "name": "python3",
      "display_name": "Python 3"
    },
    "language_info": {
      "name": "python"
    }
  },
  "cells": [
    {
      "cell_type": "markdown",
      "metadata": {
        "id": "view-in-github",
        "colab_type": "text"
      },
      "source": [
        "<a href=\"https://colab.research.google.com/github/brasfonseca/ObraShalom/blob/main/ImagemColoridaNiveisCinzaPretoBranco.ipynb\" target=\"_parent\"><img src=\"https://colab.research.google.com/assets/colab-badge.svg\" alt=\"Open In Colab\"/></a>"
      ]
    },
    {
      "cell_type": "markdown",
      "source": [
        "# **Níveis de Cinza - Sem o uso de Bibliotecas**\n",
        "\n",
        "\n",
        "\n"
      ],
      "metadata": {
        "id": "-R_I-8heKXZf"
      }
    },
    {
      "cell_type": "code",
      "source": [
        "def color_to_grayscale(image_path, output_path):\n",
        "    \"\"\"Converts a color image to grayscale without using external libraries.\n",
        "\n",
        "    Args:\n",
        "        image_path: The path to the input color image.\n",
        "        output_path: The path to save the grayscale image.\n",
        "    \"\"\"\n",
        "    with open(image_path, 'rb') as file:\n",
        "        img_data = file.read()\n",
        "\n",
        "    # Find the start of the image data (skip JPEG header)\n",
        "    # This is a simplified approach, and might not work for all JPEGs\n",
        "    # You might need a more robust JPEG header parser for complex cases\n",
        "    header_end = img_data.find(b'\\xff\\xda') + 2  # Start of scan data marker\n",
        "    data = img_data[header_end:]\n",
        "\n",
        "    # Converte cada pixel para grayscale\n",
        "    grayscale_data = bytearray()\n",
        "    i = 0\n",
        "    while i < len(data):\n",
        "        # Check for restart markers (every 8 lines in JPEG)\n",
        "        if data[i:i + 2] in (b'\\xff\\xd0', b'\\xff\\xd1', b'\\xff\\xd2', b'\\xff\\xd3',\n",
        "                             b'\\xff\\xd4', b'\\xff\\xd5', b'\\xff\\xd6', b'\\xff\\xd7'):\n",
        "            i += 2  # Skip restart marker\n",
        "            continue\n",
        "        # Extrai os valores RGB\n",
        "        try:\n",
        "            r = data[i + 2]\n",
        "            g = data[i + 1]\n",
        "            b = data[i]\n",
        "        except IndexError:\n",
        "            # Handle padding or end of data\n",
        "            break\n",
        "\n",
        "        # Calcula a média ponderada dos valores RGB para obter o valor de cinza\n",
        "        gray = int(0.299 * r + 0.587 * g + 0.114 * b)\n",
        "\n",
        "        # Define o mesmo valor de cinza para os três canais (R, G, B)\n",
        "        grayscale_data.extend([gray, gray, gray])\n",
        "\n",
        "        i += 3\n",
        "\n",
        "    # Write the grayscale data to the output file\n",
        "    # (we assume the header is mostly the same for grayscale JPEG)\n",
        "    with open(output_path, 'wb') as file:\n",
        "        file.write(img_data[:header_end] + grayscale_data)\n",
        "\n",
        "# Uso da função\n",
        "color_to_grayscale('/content/drive/MyDrive/Colab Notebooks/img/carpersontree.jpg', '/content/drive/MyDrive/Colab Notebooks/img/carpersontree_cinza.jpg')"
      ],
      "metadata": {
        "id": "vlzIueLrI7Lu"
      },
      "execution_count": null,
      "outputs": []
    },
    {
      "cell_type": "markdown",
      "source": [
        "# **Níveis de Cinza - Com Biblioteca PIL**"
      ],
      "metadata": {
        "id": "mkkptffGKVqW"
      }
    },
    {
      "cell_type": "code",
      "source": [
        "from PIL import Image\n",
        "\n",
        "def converter_para_escala_de_cinza(caminho_imagem, caminho_saida):\n",
        "    \"\"\"Converte uma imagem colorida para escala de cinza usando a biblioteca PIL.\n",
        "\n",
        "    Args:\n",
        "        caminho_imagem: O caminho para a imagem colorida de entrada.\n",
        "        caminho_saida: O caminho para salvar a imagem em escala de cinza.\n",
        "    \"\"\"\n",
        "    # Abre a imagem usando PIL\n",
        "    imagem = Image.open(caminho_imagem)\n",
        "\n",
        "    # Converte a imagem para escala de cinza\n",
        "    imagem_escala_de_cinza = imagem.convert(\"L\")\n",
        "\n",
        "    # Salva a imagem em escala de cinza\n",
        "    imagem_escala_de_cinza.save(caminho_saida)\n",
        "\n",
        "# Uso da função\n",
        "converter_para_escala_de_cinza('/content/drive/MyDrive/Colab Notebooks/img/carpersontree.jpg', '/content/drive/MyDrive/Colab Notebooks/img/carpersontree_cinza.jpg')"
      ],
      "metadata": {
        "id": "F3XWv-oWJ8gY"
      },
      "execution_count": null,
      "outputs": []
    },
    {
      "cell_type": "markdown",
      "source": [
        "**Binarizada (Preto e Branco) - Sem biblioteca**"
      ],
      "metadata": {
        "id": "FDyo8SsMNNd-"
      }
    },
    {
      "cell_type": "code",
      "source": [
        "def carregar_imagem(caminho):\n",
        "    with open(caminho, 'rb') as arquivo:\n",
        "        arquivo.seek(18)\n",
        "        largura = int.from_bytes(arquivo.read(4), 'little')\n",
        "        altura = int.from_bytes(arquivo.read(4), 'little')\n",
        "        arquivo.seek(54)\n",
        "        pixels = arquivo.read()\n",
        "        return largura, altura, pixels\n",
        "\n",
        "def salvar_imagem(caminho, largura, altura, pixels):\n",
        "    with open(caminho, 'wb') as arquivo:\n",
        "        # Cabeçalho BMP\n",
        "        arquivo.write(b'BM')\n",
        "        arquivo.write((14 + 40 + largura * altura).to_bytes(4, 'little')) # Tamanho do arquivo\n",
        "        arquivo.write(b'\\x00\\x00')\n",
        "        arquivo.write(b'\\x00\\x00')\n",
        "        arquivo.write((14 + 40).to_bytes(4, 'little')) # Offset dos dados da imagem\n",
        "        # Informação do DIB Header\n",
        "        arquivo.write((40).to_bytes(4, 'little'))\n",
        "        arquivo.write((largura).to_bytes(4, 'little'))\n",
        "        arquivo.write((altura).to_bytes(4, 'little'))\n",
        "        arquivo.write(b'\\x01\\x00') # Planos\n",
        "        arquivo.write(b'\\x18\\x00') # Bits por pixel\n",
        "        arquivo.write(b'\\x00\\x00\\x00\\x00') # Compressão\n",
        "        arquivo.write((largura * altura).to_bytes(4, 'little')) # Tamanho da imagem\n",
        "        arquivo.write(b'\\x00\\x00\\x00\\x00')\n",
        "        arquivo.write(b'\\x00\\x00\\x00\\x00')\n",
        "        arquivo.write(b'\\x00\\x00\\x00\\x00')\n",
        "        arquivo.write(b'\\x00\\x00\\x00\\x00')\n",
        "        # Dados dos pixels\n",
        "        arquivo.write(pixels)\n",
        "\n",
        "def converter_para_binarizada(largura, altura, pixels):\n",
        "    binarizada_pixels = bytearray()\n",
        "    limiar = 128  # Limiar para binarização (0-255)\n",
        "    for i in range(0, len(pixels) - 2, 3): # Changed loop condition\n",
        "        # Média dos valores RGB para obter o valor em tons de cinza\n",
        "        media = (pixels[i] + pixels[i+1] + pixels[i+2]) // 3\n",
        "        # Binarização\n",
        "        cor = 255 if media >= limiar else 0\n",
        "        binarizada_pixels.extend([cor, cor, cor])\n",
        "    return binarizada_pixels\n",
        "\n",
        "caminho_entrada = '/content/drive/MyDrive/Colab Notebooks/img/carpersontree_cinza_bmp.bmp'\n",
        "caminho_saida = '/content/drive/MyDrive/Colab Notebooks/img/carpersontree_binarizada.bmp'\n",
        "\n",
        "largura, altura, pixels = carregar_imagem(caminho_entrada)\n",
        "binarizada_pixels = converter_para_binarizada(largura, altura, pixels)\n",
        "salvar_imagem(caminho_saida, largura, altura, binarizada_pixels)\n",
        "\n",
        "print('Imagem binarizada salva em', caminho_saida)\n"
      ],
      "metadata": {
        "colab": {
          "base_uri": "https://localhost:8080/"
        },
        "id": "oqbA8NUaPysN",
        "outputId": "cfa66d20-bfa9-4986-9717-d33f96e4485b"
      },
      "execution_count": null,
      "outputs": [
        {
          "output_type": "stream",
          "name": "stdout",
          "text": [
            "Imagem binarizada salva em /content/drive/MyDrive/Colab Notebooks/img/carpersontree_binarizada.bmp\n"
          ]
        }
      ]
    },
    {
      "cell_type": "markdown",
      "source": [
        "**Binarizada - Com biblioteca**"
      ],
      "metadata": {
        "id": "I0PD4XhtRRUl"
      }
    },
    {
      "cell_type": "code",
      "source": [
        "from PIL import Image\n",
        "\n",
        "# Carregar a imagem em tons de cinza\n",
        "imagem = Image.open('/content/drive/MyDrive/Colab Notebooks/img/carpersontree_cinza.jpg').convert('L')\n",
        "\n",
        "# Definir o limiar para binarização\n",
        "limiar = 128\n",
        "\n",
        "# Binarizar a imagem\n",
        "binarizada = imagem.point(lambda p: 255 if p >= limiar else 0)\n",
        "\n",
        "# Salvar a imagem binarizada\n",
        "binarizada.save('imagem_binarizada.jpg')\n",
        "\n",
        "print('/content/drive/MyDrive/Colab Notebooks/img/carpersontree_binarizada.jpg\"')\n"
      ],
      "metadata": {
        "colab": {
          "base_uri": "https://localhost:8080/"
        },
        "id": "RV7u52MmRXA9",
        "outputId": "f85d6787-50ce-4adc-bd8b-76863912679f"
      },
      "execution_count": null,
      "outputs": [
        {
          "output_type": "stream",
          "name": "stdout",
          "text": [
            "/content/drive/MyDrive/Colab Notebooks/img/carpersontree_binarizada.jpg\"\n"
          ]
        }
      ]
    }
  ]
}